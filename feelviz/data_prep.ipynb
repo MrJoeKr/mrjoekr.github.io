{
 "cells": [
  {
   "cell_type": "markdown",
   "metadata": {},
   "source": [
    "# Data Preparation\n",
    "\n",
    "This file contains data preparation for the PV251 visualization project."
   ]
  },
  {
   "cell_type": "markdown",
   "metadata": {},
   "source": [
    "## Import modules"
   ]
  },
  {
   "cell_type": "code",
   "execution_count": 70,
   "metadata": {},
   "outputs": [],
   "source": [
    "# Download the stopwords\n",
    "import nltk\n",
    "import pandas as pd\n",
    "from nltk.corpus import stopwords\n",
    "\n",
    "# # Download the stopwords\n",
    "# nltk.download(\"stopwords\")"
   ]
  },
  {
   "cell_type": "markdown",
   "metadata": {},
   "source": [
    "## Data"
   ]
  },
  {
   "cell_type": "code",
   "execution_count": 71,
   "metadata": {},
   "outputs": [
    {
     "data": {
      "text/html": [
       "<div>\n",
       "<style scoped>\n",
       "    .dataframe tbody tr th:only-of-type {\n",
       "        vertical-align: middle;\n",
       "    }\n",
       "\n",
       "    .dataframe tbody tr th {\n",
       "        vertical-align: top;\n",
       "    }\n",
       "\n",
       "    .dataframe thead th {\n",
       "        text-align: right;\n",
       "    }\n",
       "</style>\n",
       "<table border=\"1\" class=\"dataframe\">\n",
       "  <thead>\n",
       "    <tr style=\"text-align: right;\">\n",
       "      <th></th>\n",
       "      <th>date</th>\n",
       "      <th>mindState</th>\n",
       "      <th>associations</th>\n",
       "      <th>descriptions</th>\n",
       "      <th>context</th>\n",
       "    </tr>\n",
       "  </thead>\n",
       "  <tbody>\n",
       "    <tr>\n",
       "      <th>0</th>\n",
       "      <td>23-12-2024</td>\n",
       "      <td>2</td>\n",
       "      <td>Family,Friends</td>\n",
       "      <td>Peaceful,Happy,Joyful</td>\n",
       "      <td>Nephew birthday party</td>\n",
       "    </tr>\n",
       "  </tbody>\n",
       "</table>\n",
       "</div>"
      ],
      "text/plain": [
       "         date  mindState    associations           descriptions  \\\n",
       "0  23-12-2024          2  Family,Friends  Peaceful,Happy,Joyful   \n",
       "\n",
       "                 context  \n",
       "0  Nephew birthday party  "
      ]
     },
     "execution_count": 71,
     "metadata": {},
     "output_type": "execute_result"
    }
   ],
   "source": [
    "data_days = pd.read_csv(\"data/days.csv\", sep=\";\")\n",
    "time_slept = pd.read_csv(\"data/timeSlept.csv\", sep=\";\")\n",
    "\n",
    "\n",
    "data_days.head(1)"
   ]
  },
  {
   "cell_type": "code",
   "execution_count": 72,
   "metadata": {},
   "outputs": [
    {
     "name": "stdout",
     "output_type": "stream",
     "text": [
      "Nan values in data_days:\n",
      "date            0\n",
      "mindState       0\n",
      "associations    0\n",
      "descriptions    0\n",
      "context         0\n",
      "dtype: int64\n"
     ]
    }
   ],
   "source": [
    "print(\"Nan values in data_days:\")\n",
    "print(data_days.isnull().sum())"
   ]
  },
  {
   "cell_type": "markdown",
   "metadata": {},
   "source": [
    "### Drop NaNs"
   ]
  },
  {
   "cell_type": "code",
   "execution_count": 73,
   "metadata": {},
   "outputs": [
    {
     "name": "stdout",
     "output_type": "stream",
     "text": [
      "Nan values in data_days after dropping:\n",
      "date            0\n",
      "mindState       0\n",
      "associations    0\n",
      "descriptions    0\n",
      "context         0\n",
      "dtype: int64\n"
     ]
    }
   ],
   "source": [
    "# Drop rows with NaN values\n",
    "data_days = data_days.dropna()\n",
    "data_days = data_days.reset_index(drop=True)\n",
    "\n",
    "print(\"Nan values in data_days after dropping:\")\n",
    "print(data_days.isnull().sum())"
   ]
  },
  {
   "cell_type": "code",
   "execution_count": 74,
   "metadata": {},
   "outputs": [
    {
     "name": "stdout",
     "output_type": "stream",
     "text": [
      "Max and min dates in data_days:\n",
      "31-10-2024\n",
      "01-11-2024\n"
     ]
    }
   ],
   "source": [
    "print(\"Max and min dates in data_days:\")\n",
    "print(data_days[\"date\"].max())\n",
    "print(data_days[\"date\"].min())"
   ]
  },
  {
   "cell_type": "markdown",
   "metadata": {},
   "source": [
    "## Data Preparation"
   ]
  },
  {
   "cell_type": "code",
   "execution_count": 75,
   "metadata": {},
   "outputs": [
    {
     "data": {
      "text/plain": [
       "0    2024-12-23\n",
       "1    2024-12-21\n",
       "2    2024-12-18\n",
       "3    2024-12-17\n",
       "4    2024-12-16\n",
       "Name: date, dtype: object"
      ]
     },
     "execution_count": 75,
     "metadata": {},
     "output_type": "execute_result"
    }
   ],
   "source": [
    "# Update date format to YYYY-MM-DD (format now is DD-MM-YYYY)\n",
    "data_days[\"date\"] = pd.to_datetime(\n",
    "    data_days[\"date\"], format=\"%d-%m-%Y\"\n",
    ").dt.strftime(\"%Y-%m-%d\")\n",
    "\n",
    "data_days[\"mindState\"] = data_days[\"mindState\"].astype(int)\n",
    "\n",
    "time_slept[\"date\"] = pd.to_datetime(\n",
    "    time_slept[\"date\"], format=\"%d-%m-%Y\"\n",
    ").dt.strftime(\"%Y-%m-%d\")\n",
    "\n",
    "data_days[\"date\"].head()"
   ]
  },
  {
   "cell_type": "code",
   "execution_count": 76,
   "metadata": {},
   "outputs": [],
   "source": [
    "# Remove semicolons from context\n",
    "data_days[\"context\"] = data_days[\"context\"].str.replace(\";\", \"\")"
   ]
  },
  {
   "cell_type": "code",
   "execution_count": 77,
   "metadata": {},
   "outputs": [
    {
     "data": {
      "text/html": [
       "<div>\n",
       "<style scoped>\n",
       "    .dataframe tbody tr th:only-of-type {\n",
       "        vertical-align: middle;\n",
       "    }\n",
       "\n",
       "    .dataframe tbody tr th {\n",
       "        vertical-align: top;\n",
       "    }\n",
       "\n",
       "    .dataframe thead th {\n",
       "        text-align: right;\n",
       "    }\n",
       "</style>\n",
       "<table border=\"1\" class=\"dataframe\">\n",
       "  <thead>\n",
       "    <tr style=\"text-align: right;\">\n",
       "      <th></th>\n",
       "      <th>date</th>\n",
       "      <th>mindState</th>\n",
       "      <th>associations</th>\n",
       "      <th>descriptions</th>\n",
       "      <th>context</th>\n",
       "    </tr>\n",
       "  </thead>\n",
       "  <tbody>\n",
       "    <tr>\n",
       "      <th>0</th>\n",
       "      <td>2024-12-23</td>\n",
       "      <td>Pleasant</td>\n",
       "      <td>Family,Friends</td>\n",
       "      <td>Peaceful,Happy,Joyful</td>\n",
       "      <td>Nephew birthday party</td>\n",
       "    </tr>\n",
       "    <tr>\n",
       "      <th>1</th>\n",
       "      <td>2024-12-21</td>\n",
       "      <td>Pleasant</td>\n",
       "      <td>Family,Friends</td>\n",
       "      <td>Happy,Grateful</td>\n",
       "      <td>Scout's Christmas Event</td>\n",
       "    </tr>\n",
       "  </tbody>\n",
       "</table>\n",
       "</div>"
      ],
      "text/plain": [
       "         date mindState    associations           descriptions  \\\n",
       "0  2024-12-23  Pleasant  Family,Friends  Peaceful,Happy,Joyful   \n",
       "1  2024-12-21  Pleasant  Family,Friends         Happy,Grateful   \n",
       "\n",
       "                   context  \n",
       "0    Nephew birthday party  \n",
       "1  Scout's Christmas Event  "
      ]
     },
     "execution_count": 77,
     "metadata": {},
     "output_type": "execute_result"
    }
   ],
   "source": [
    "# Map `mindState` column to string values\n",
    "MIND_STATE_MAP = {\n",
    "    -3: \"Very unpleasant\",\n",
    "    -2: \"Unpleasant\",\n",
    "    -1: \"Slightly unpleasant\",\n",
    "    0: \"Neutral\",\n",
    "    1: \"Slightly pleasant\",\n",
    "    2: \"Pleasant\",\n",
    "    3: \"Very pleasant\",\n",
    "}\n",
    "\n",
    "INVERSE_MIND_STATE_MAP = {v: k for k, v in MIND_STATE_MAP.items()}\n",
    "\n",
    "data_days[\"mindState\"] = data_days[\"mindState\"].map(MIND_STATE_MAP)\n",
    "data_days.head(2)"
   ]
  },
  {
   "cell_type": "markdown",
   "metadata": {},
   "source": [
    "### Associations"
   ]
  },
  {
   "cell_type": "code",
   "execution_count": 78,
   "metadata": {},
   "outputs": [
    {
     "data": {
      "text/html": [
       "<div>\n",
       "<style scoped>\n",
       "    .dataframe tbody tr th:only-of-type {\n",
       "        vertical-align: middle;\n",
       "    }\n",
       "\n",
       "    .dataframe tbody tr th {\n",
       "        vertical-align: top;\n",
       "    }\n",
       "\n",
       "    .dataframe thead th {\n",
       "        text-align: right;\n",
       "    }\n",
       "</style>\n",
       "<table border=\"1\" class=\"dataframe\">\n",
       "  <thead>\n",
       "    <tr style=\"text-align: right;\">\n",
       "      <th></th>\n",
       "      <th>date</th>\n",
       "      <th>associations</th>\n",
       "      <th>mindState</th>\n",
       "      <th>type</th>\n",
       "    </tr>\n",
       "  </thead>\n",
       "  <tbody>\n",
       "    <tr>\n",
       "      <th>0</th>\n",
       "      <td>2024-12-23</td>\n",
       "      <td>Family</td>\n",
       "      <td>Pleasant</td>\n",
       "      <td>association</td>\n",
       "    </tr>\n",
       "    <tr>\n",
       "      <th>0</th>\n",
       "      <td>2024-12-23</td>\n",
       "      <td>Friends</td>\n",
       "      <td>Pleasant</td>\n",
       "      <td>association</td>\n",
       "    </tr>\n",
       "  </tbody>\n",
       "</table>\n",
       "</div>"
      ],
      "text/plain": [
       "         date associations mindState         type\n",
       "0  2024-12-23       Family  Pleasant  association\n",
       "0  2024-12-23      Friends  Pleasant  association"
      ]
     },
     "execution_count": 78,
     "metadata": {},
     "output_type": "execute_result"
    }
   ],
   "source": [
    "# Associations are in format: `association1;association2;...`\n",
    "# Extract all associations into separate rows\n",
    "date_associations = data_days[[\"date\", \"associations\", \"mindState\"]].copy()\n",
    "date_associations[\"associations\"] = date_associations[\n",
    "    \"associations\"\n",
    "].str.split(\",\")\n",
    "\n",
    "date_associations = date_associations.explode(\"associations\")\n",
    "\n",
    "# Add space in CurrentEvents\n",
    "date_associations[\"associations\"] = date_associations[\n",
    "    \"associations\"\n",
    "].str.replace(\"CurrentEvents\", \"Current events\")\n",
    "\n",
    "# Add type column\n",
    "date_associations[\"type\"] = \"association\"\n",
    "\n",
    "date_associations.head(2)"
   ]
  },
  {
   "cell_type": "markdown",
   "metadata": {},
   "source": [
    "### Descriptions"
   ]
  },
  {
   "cell_type": "code",
   "execution_count": 79,
   "metadata": {},
   "outputs": [
    {
     "data": {
      "text/html": [
       "<div>\n",
       "<style scoped>\n",
       "    .dataframe tbody tr th:only-of-type {\n",
       "        vertical-align: middle;\n",
       "    }\n",
       "\n",
       "    .dataframe tbody tr th {\n",
       "        vertical-align: top;\n",
       "    }\n",
       "\n",
       "    .dataframe thead th {\n",
       "        text-align: right;\n",
       "    }\n",
       "</style>\n",
       "<table border=\"1\" class=\"dataframe\">\n",
       "  <thead>\n",
       "    <tr style=\"text-align: right;\">\n",
       "      <th></th>\n",
       "      <th>date</th>\n",
       "      <th>descriptions</th>\n",
       "      <th>mindState</th>\n",
       "      <th>type</th>\n",
       "    </tr>\n",
       "  </thead>\n",
       "  <tbody>\n",
       "    <tr>\n",
       "      <th>0</th>\n",
       "      <td>2024-12-23</td>\n",
       "      <td>Peaceful</td>\n",
       "      <td>Pleasant</td>\n",
       "      <td>description</td>\n",
       "    </tr>\n",
       "    <tr>\n",
       "      <th>0</th>\n",
       "      <td>2024-12-23</td>\n",
       "      <td>Happy</td>\n",
       "      <td>Pleasant</td>\n",
       "      <td>description</td>\n",
       "    </tr>\n",
       "  </tbody>\n",
       "</table>\n",
       "</div>"
      ],
      "text/plain": [
       "         date descriptions mindState         type\n",
       "0  2024-12-23     Peaceful  Pleasant  description\n",
       "0  2024-12-23        Happy  Pleasant  description"
      ]
     },
     "execution_count": 79,
     "metadata": {},
     "output_type": "execute_result"
    }
   ],
   "source": [
    "# Do the same with `descriptions` column\n",
    "date_descriptions = data_days[[\"date\", \"descriptions\", \"mindState\"]].copy()\n",
    "date_descriptions[\"descriptions\"] = date_descriptions[\n",
    "    \"descriptions\"\n",
    "].str.split(\",\")\n",
    "\n",
    "date_descriptions = date_descriptions.explode(\"descriptions\")\n",
    "\n",
    "# Add type column\n",
    "date_descriptions[\"type\"] = \"description\"\n",
    "\n",
    "date_descriptions.head(2)"
   ]
  },
  {
   "cell_type": "markdown",
   "metadata": {},
   "source": [
    "### Context"
   ]
  },
  {
   "cell_type": "code",
   "execution_count": 80,
   "metadata": {},
   "outputs": [
    {
     "data": {
      "text/html": [
       "<div>\n",
       "<style scoped>\n",
       "    .dataframe tbody tr th:only-of-type {\n",
       "        vertical-align: middle;\n",
       "    }\n",
       "\n",
       "    .dataframe tbody tr th {\n",
       "        vertical-align: top;\n",
       "    }\n",
       "\n",
       "    .dataframe thead th {\n",
       "        text-align: right;\n",
       "    }\n",
       "</style>\n",
       "<table border=\"1\" class=\"dataframe\">\n",
       "  <thead>\n",
       "    <tr style=\"text-align: right;\">\n",
       "      <th></th>\n",
       "      <th>date</th>\n",
       "      <th>context</th>\n",
       "      <th>mindState</th>\n",
       "      <th>type</th>\n",
       "    </tr>\n",
       "  </thead>\n",
       "  <tbody>\n",
       "    <tr>\n",
       "      <th>0</th>\n",
       "      <td>2024-12-23</td>\n",
       "      <td>Nephew</td>\n",
       "      <td>Pleasant</td>\n",
       "      <td>context</td>\n",
       "    </tr>\n",
       "    <tr>\n",
       "      <th>0</th>\n",
       "      <td>2024-12-23</td>\n",
       "      <td>Birthday</td>\n",
       "      <td>Pleasant</td>\n",
       "      <td>context</td>\n",
       "    </tr>\n",
       "  </tbody>\n",
       "</table>\n",
       "</div>"
      ],
      "text/plain": [
       "         date   context mindState     type\n",
       "0  2024-12-23    Nephew  Pleasant  context\n",
       "0  2024-12-23  Birthday  Pleasant  context"
      ]
     },
     "execution_count": 80,
     "metadata": {},
     "output_type": "execute_result"
    }
   ],
   "source": [
    "# For the context, we split by space and explode\n",
    "date_context = data_days[[\"date\", \"context\", \"mindState\"]].copy()\n",
    "date_context[\"context\"] = date_context[\"context\"].str.split(\" \")\n",
    "\n",
    "date_context = date_context.explode(\"context\")\n",
    "\n",
    "# Strip leading and trailing whitespaces and capitalize\n",
    "date_context[\"context\"] = date_context[\"context\"].str.strip().str.capitalize()\n",
    "\n",
    "# Add type column\n",
    "date_context[\"type\"] = \"context\"\n",
    "\n",
    "date_context.head(2)"
   ]
  },
  {
   "cell_type": "code",
   "execution_count": 81,
   "metadata": {},
   "outputs": [
    {
     "data": {
      "text/html": [
       "<div>\n",
       "<style scoped>\n",
       "    .dataframe tbody tr th:only-of-type {\n",
       "        vertical-align: middle;\n",
       "    }\n",
       "\n",
       "    .dataframe tbody tr th {\n",
       "        vertical-align: top;\n",
       "    }\n",
       "\n",
       "    .dataframe thead th {\n",
       "        text-align: right;\n",
       "    }\n",
       "</style>\n",
       "<table border=\"1\" class=\"dataframe\">\n",
       "  <thead>\n",
       "    <tr style=\"text-align: right;\">\n",
       "      <th></th>\n",
       "      <th>date</th>\n",
       "      <th>context</th>\n",
       "      <th>mindState</th>\n",
       "      <th>type</th>\n",
       "    </tr>\n",
       "  </thead>\n",
       "  <tbody>\n",
       "    <tr>\n",
       "      <th>0</th>\n",
       "      <td>2024-12-23</td>\n",
       "      <td>Nephew</td>\n",
       "      <td>Pleasant</td>\n",
       "      <td>context</td>\n",
       "    </tr>\n",
       "    <tr>\n",
       "      <th>0</th>\n",
       "      <td>2024-12-23</td>\n",
       "      <td>Birthday</td>\n",
       "      <td>Pleasant</td>\n",
       "      <td>context</td>\n",
       "    </tr>\n",
       "  </tbody>\n",
       "</table>\n",
       "</div>"
      ],
      "text/plain": [
       "         date   context mindState     type\n",
       "0  2024-12-23    Nephew  Pleasant  context\n",
       "0  2024-12-23  Birthday  Pleasant  context"
      ]
     },
     "execution_count": 81,
     "metadata": {},
     "output_type": "execute_result"
    }
   ],
   "source": [
    "# Add stop words and boundaries to the words for regex\n",
    "stop_words = {rf\"\\b{k}\\b\": \"\" for k in stopwords.words(\"english\")}\n",
    "\n",
    "date_context[\"context\"] = (\n",
    "    date_context[\"context\"]\n",
    "    .str.lower()\n",
    "    .replace(stop_words, regex=True)\n",
    "    .str.capitalize()\n",
    ")\n",
    "\n",
    "# Remove empty strings\n",
    "date_context = date_context[date_context[\"context\"] != \"\"]\n",
    "\n",
    "# Remove `'s` from words\n",
    "date_context[\"context\"] = date_context[\"context\"].str.replace(\"'s\", \"\")\n",
    "# \",\" after words\n",
    "date_context[\"context\"] = date_context[\"context\"].str.replace(\",\", \"\")\n",
    "# \".\" after words\n",
    "date_context[\"context\"] = date_context[\"context\"].str.replace(\".\", \"\")\n",
    "\n",
    "date_context.head(2)"
   ]
  },
  {
   "cell_type": "code",
   "execution_count": 82,
   "metadata": {},
   "outputs": [],
   "source": [
    "# Replace numbers with words\n",
    "from num2words import num2words\n",
    "\n",
    "date_context[\"context\"] = (\n",
    "    date_context[\"context\"]\n",
    "    .str.replace(r\"(\\d+)\", lambda x: num2words(int(x.group(0))), regex=True)\n",
    "    .str.capitalize()\n",
    ")"
   ]
  },
  {
   "cell_type": "markdown",
   "metadata": {},
   "source": [
    "### Combine"
   ]
  },
  {
   "cell_type": "code",
   "execution_count": 83,
   "metadata": {},
   "outputs": [
    {
     "data": {
      "text/html": [
       "<div>\n",
       "<style scoped>\n",
       "    .dataframe tbody tr th:only-of-type {\n",
       "        vertical-align: middle;\n",
       "    }\n",
       "\n",
       "    .dataframe tbody tr th {\n",
       "        vertical-align: top;\n",
       "    }\n",
       "\n",
       "    .dataframe thead th {\n",
       "        text-align: right;\n",
       "    }\n",
       "</style>\n",
       "<table border=\"1\" class=\"dataframe\">\n",
       "  <thead>\n",
       "    <tr style=\"text-align: right;\">\n",
       "      <th></th>\n",
       "      <th>date</th>\n",
       "      <th>word</th>\n",
       "      <th>mindState</th>\n",
       "      <th>type</th>\n",
       "    </tr>\n",
       "  </thead>\n",
       "  <tbody>\n",
       "    <tr>\n",
       "      <th>0</th>\n",
       "      <td>2024-12-23</td>\n",
       "      <td>Family</td>\n",
       "      <td>Pleasant</td>\n",
       "      <td>association</td>\n",
       "    </tr>\n",
       "    <tr>\n",
       "      <th>1</th>\n",
       "      <td>2024-12-23</td>\n",
       "      <td>Friends</td>\n",
       "      <td>Pleasant</td>\n",
       "      <td>association</td>\n",
       "    </tr>\n",
       "  </tbody>\n",
       "</table>\n",
       "</div>"
      ],
      "text/plain": [
       "         date     word mindState         type\n",
       "0  2024-12-23   Family  Pleasant  association\n",
       "1  2024-12-23  Friends  Pleasant  association"
      ]
     },
     "execution_count": 83,
     "metadata": {},
     "output_type": "execute_result"
    }
   ],
   "source": [
    "# Combine all dataframes into one by concatenating them\n",
    "date_word = pd.concat(\n",
    "    [\n",
    "        date_associations.rename(columns={\"associations\": \"word\"}),\n",
    "        date_descriptions.rename(columns={\"descriptions\": \"word\"}),\n",
    "        date_context.rename(columns={\"context\": \"word\"}),\n",
    "    ]\n",
    ").reset_index(drop=True)\n",
    "\n",
    "# Set all words capital\n",
    "date_word[\"word\"] = date_word[\"word\"].str.capitalize()\n",
    "\n",
    "date_word.head(2)"
   ]
  },
  {
   "cell_type": "code",
   "execution_count": 84,
   "metadata": {},
   "outputs": [],
   "source": [
    "# Update word types\n",
    "date_word.loc[date_word[\"word\"] == \"Friends\", \"type\"] = \"association\""
   ]
  },
  {
   "cell_type": "markdown",
   "metadata": {},
   "source": [
    "### Date, Time and Mind State"
   ]
  },
  {
   "cell_type": "code",
   "execution_count": 85,
   "metadata": {},
   "outputs": [
    {
     "data": {
      "text/html": [
       "<div>\n",
       "<style scoped>\n",
       "    .dataframe tbody tr th:only-of-type {\n",
       "        vertical-align: middle;\n",
       "    }\n",
       "\n",
       "    .dataframe tbody tr th {\n",
       "        vertical-align: top;\n",
       "    }\n",
       "\n",
       "    .dataframe thead th {\n",
       "        text-align: right;\n",
       "    }\n",
       "</style>\n",
       "<table border=\"1\" class=\"dataframe\">\n",
       "  <thead>\n",
       "    <tr style=\"text-align: right;\">\n",
       "      <th></th>\n",
       "      <th>date</th>\n",
       "      <th>sleep</th>\n",
       "    </tr>\n",
       "  </thead>\n",
       "  <tbody>\n",
       "    <tr>\n",
       "      <th>0</th>\n",
       "      <td>2024-12-23</td>\n",
       "      <td>7:46</td>\n",
       "    </tr>\n",
       "    <tr>\n",
       "      <th>1</th>\n",
       "      <td>2024-12-21</td>\n",
       "      <td>4:43</td>\n",
       "    </tr>\n",
       "    <tr>\n",
       "      <th>2</th>\n",
       "      <td>2024-12-18</td>\n",
       "      <td>7:30</td>\n",
       "    </tr>\n",
       "    <tr>\n",
       "      <th>3</th>\n",
       "      <td>2024-12-17</td>\n",
       "      <td>8:37</td>\n",
       "    </tr>\n",
       "    <tr>\n",
       "      <th>4</th>\n",
       "      <td>2024-12-16</td>\n",
       "      <td>8:09</td>\n",
       "    </tr>\n",
       "  </tbody>\n",
       "</table>\n",
       "</div>"
      ],
      "text/plain": [
       "         date sleep\n",
       "0  2024-12-23  7:46\n",
       "1  2024-12-21  4:43\n",
       "2  2024-12-18  7:30\n",
       "3  2024-12-17  8:37\n",
       "4  2024-12-16  8:09"
      ]
     },
     "execution_count": 85,
     "metadata": {},
     "output_type": "execute_result"
    }
   ],
   "source": [
    "time_slept.head()"
   ]
  },
  {
   "cell_type": "code",
   "execution_count": 86,
   "metadata": {},
   "outputs": [
    {
     "data": {
      "text/html": [
       "<div>\n",
       "<style scoped>\n",
       "    .dataframe tbody tr th:only-of-type {\n",
       "        vertical-align: middle;\n",
       "    }\n",
       "\n",
       "    .dataframe tbody tr th {\n",
       "        vertical-align: top;\n",
       "    }\n",
       "\n",
       "    .dataframe thead th {\n",
       "        text-align: right;\n",
       "    }\n",
       "</style>\n",
       "<table border=\"1\" class=\"dataframe\">\n",
       "  <thead>\n",
       "    <tr style=\"text-align: right;\">\n",
       "      <th></th>\n",
       "      <th>date</th>\n",
       "      <th>sleep</th>\n",
       "    </tr>\n",
       "  </thead>\n",
       "  <tbody>\n",
       "    <tr>\n",
       "      <th>0</th>\n",
       "      <td>2024-12-23</td>\n",
       "      <td>7.77</td>\n",
       "    </tr>\n",
       "    <tr>\n",
       "      <th>1</th>\n",
       "      <td>2024-12-21</td>\n",
       "      <td>4.72</td>\n",
       "    </tr>\n",
       "    <tr>\n",
       "      <th>2</th>\n",
       "      <td>2024-12-18</td>\n",
       "      <td>7.50</td>\n",
       "    </tr>\n",
       "    <tr>\n",
       "      <th>3</th>\n",
       "      <td>2024-12-17</td>\n",
       "      <td>8.62</td>\n",
       "    </tr>\n",
       "    <tr>\n",
       "      <th>4</th>\n",
       "      <td>2024-12-16</td>\n",
       "      <td>8.15</td>\n",
       "    </tr>\n",
       "  </tbody>\n",
       "</table>\n",
       "</div>"
      ],
      "text/plain": [
       "         date  sleep\n",
       "0  2024-12-23   7.77\n",
       "1  2024-12-21   4.72\n",
       "2  2024-12-18   7.50\n",
       "3  2024-12-17   8.62\n",
       "4  2024-12-16   8.15"
      ]
     },
     "execution_count": 86,
     "metadata": {},
     "output_type": "execute_result"
    }
   ],
   "source": [
    "time_slept[\"sleep\"] = time_slept[\"sleep\"].fillna(\"1:00\")\n",
    "\n",
    "# Sleep time is in format HH:MM\n",
    "# Transform to hours only\n",
    "time_slept[\"sleep\"] = (\n",
    "    time_slept[\"sleep\"]\n",
    "    .str.split(\":\")\n",
    "    .apply(lambda x: int(x[0]) + int(x[1]) / 60)\n",
    "    .round(2)\n",
    ")\n",
    "\n",
    "time_slept.head()"
   ]
  },
  {
   "cell_type": "code",
   "execution_count": 87,
   "metadata": {},
   "outputs": [
    {
     "data": {
      "text/html": [
       "<div>\n",
       "<style scoped>\n",
       "    .dataframe tbody tr th:only-of-type {\n",
       "        vertical-align: middle;\n",
       "    }\n",
       "\n",
       "    .dataframe tbody tr th {\n",
       "        vertical-align: top;\n",
       "    }\n",
       "\n",
       "    .dataframe thead th {\n",
       "        text-align: right;\n",
       "    }\n",
       "</style>\n",
       "<table border=\"1\" class=\"dataframe\">\n",
       "  <thead>\n",
       "    <tr style=\"text-align: right;\">\n",
       "      <th></th>\n",
       "      <th>date</th>\n",
       "      <th>mindState</th>\n",
       "      <th>sleep</th>\n",
       "    </tr>\n",
       "  </thead>\n",
       "  <tbody>\n",
       "    <tr>\n",
       "      <th>0</th>\n",
       "      <td>2024-12-23</td>\n",
       "      <td>2</td>\n",
       "      <td>7.77</td>\n",
       "    </tr>\n",
       "    <tr>\n",
       "      <th>1</th>\n",
       "      <td>2024-12-21</td>\n",
       "      <td>2</td>\n",
       "      <td>4.72</td>\n",
       "    </tr>\n",
       "    <tr>\n",
       "      <th>2</th>\n",
       "      <td>2024-12-18</td>\n",
       "      <td>1</td>\n",
       "      <td>7.50</td>\n",
       "    </tr>\n",
       "    <tr>\n",
       "      <th>3</th>\n",
       "      <td>2024-12-17</td>\n",
       "      <td>1</td>\n",
       "      <td>8.62</td>\n",
       "    </tr>\n",
       "    <tr>\n",
       "      <th>4</th>\n",
       "      <td>2024-12-16</td>\n",
       "      <td>1</td>\n",
       "      <td>8.15</td>\n",
       "    </tr>\n",
       "  </tbody>\n",
       "</table>\n",
       "</div>"
      ],
      "text/plain": [
       "         date  mindState  sleep\n",
       "0  2024-12-23          2   7.77\n",
       "1  2024-12-21          2   4.72\n",
       "2  2024-12-18          1   7.50\n",
       "3  2024-12-17          1   8.62\n",
       "4  2024-12-16          1   8.15"
      ]
     },
     "execution_count": 87,
     "metadata": {},
     "output_type": "execute_result"
    }
   ],
   "source": [
    "# Merge time slept with data_days to create a single dataframe\n",
    "# With columns date, timeSlept, mindState\n",
    "date_mind_sleep = pd.merge(\n",
    "    data_days[[\"date\", \"mindState\"]], time_slept, on=\"date\", how=\"left\"\n",
    ")\n",
    "\n",
    "# Change mindState to numerical values\n",
    "date_mind_sleep[\"mindState\"] = date_mind_sleep[\"mindState\"].map(\n",
    "    INVERSE_MIND_STATE_MAP\n",
    ")\n",
    "\n",
    "date_mind_sleep.head()"
   ]
  },
  {
   "cell_type": "markdown",
   "metadata": {},
   "source": [
    "## Network Table"
   ]
  },
  {
   "cell_type": "markdown",
   "metadata": {},
   "source": [
    "### Nodes"
   ]
  },
  {
   "cell_type": "code",
   "execution_count": 88,
   "metadata": {},
   "outputs": [
    {
     "name": "stdout",
     "output_type": "stream",
     "text": [
      "Shape of nodes: (762, 3)\n"
     ]
    },
    {
     "data": {
      "text/html": [
       "<div>\n",
       "<style scoped>\n",
       "    .dataframe tbody tr th:only-of-type {\n",
       "        vertical-align: middle;\n",
       "    }\n",
       "\n",
       "    .dataframe tbody tr th {\n",
       "        vertical-align: top;\n",
       "    }\n",
       "\n",
       "    .dataframe thead th {\n",
       "        text-align: right;\n",
       "    }\n",
       "</style>\n",
       "<table border=\"1\" class=\"dataframe\">\n",
       "  <thead>\n",
       "    <tr style=\"text-align: right;\">\n",
       "      <th></th>\n",
       "      <th>date</th>\n",
       "      <th>word</th>\n",
       "      <th>type</th>\n",
       "    </tr>\n",
       "  </thead>\n",
       "  <tbody>\n",
       "    <tr>\n",
       "      <th>0</th>\n",
       "      <td>2024-12-23</td>\n",
       "      <td>Family</td>\n",
       "      <td>association</td>\n",
       "    </tr>\n",
       "    <tr>\n",
       "      <th>1</th>\n",
       "      <td>2024-12-23</td>\n",
       "      <td>Friends</td>\n",
       "      <td>association</td>\n",
       "    </tr>\n",
       "    <tr>\n",
       "      <th>2</th>\n",
       "      <td>2024-12-21</td>\n",
       "      <td>Family</td>\n",
       "      <td>association</td>\n",
       "    </tr>\n",
       "  </tbody>\n",
       "</table>\n",
       "</div>"
      ],
      "text/plain": [
       "         date     word         type\n",
       "0  2024-12-23   Family  association\n",
       "1  2024-12-23  Friends  association\n",
       "2  2024-12-21   Family  association"
      ]
     },
     "execution_count": 88,
     "metadata": {},
     "output_type": "execute_result"
    }
   ],
   "source": [
    "nodes = date_word.drop(\"mindState\", axis=1)\n",
    "print(\"Shape of nodes:\", nodes.shape)\n",
    "nodes.head(3)"
   ]
  },
  {
   "cell_type": "markdown",
   "metadata": {},
   "source": [
    "## Export data"
   ]
  },
  {
   "cell_type": "code",
   "execution_count": 89,
   "metadata": {},
   "outputs": [
    {
     "name": "stdout",
     "output_type": "stream",
     "text": [
      "Nodes shape: (762, 3)\n",
      "Day statistics shape: (75, 3)\n"
     ]
    }
   ],
   "source": [
    "print(\"Nodes shape:\", nodes.shape)\n",
    "print(\"Day statistics shape:\", date_mind_sleep.shape)"
   ]
  },
  {
   "cell_type": "code",
   "execution_count": 90,
   "metadata": {},
   "outputs": [],
   "source": [
    "# Export data as CSV\n",
    "nodes.to_csv(\"public/nodes.csv\", index=False)\n",
    "\n",
    "date_mind_sleep.to_csv(\"public/day_stats.csv\", index=False)"
   ]
  }
 ],
 "metadata": {
  "kernelspec": {
   "display_name": "Python 3",
   "language": "python",
   "name": "python3"
  },
  "language_info": {
   "codemirror_mode": {
    "name": "ipython",
    "version": 3
   },
   "file_extension": ".py",
   "mimetype": "text/x-python",
   "name": "python",
   "nbconvert_exporter": "python",
   "pygments_lexer": "ipython3",
   "version": "3.11.4"
  }
 },
 "nbformat": 4,
 "nbformat_minor": 2
}
